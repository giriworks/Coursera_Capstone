{
    "cells": [
        {
            "cell_type": "code",
            "execution_count": 1,
            "metadata": {},
            "outputs": [
                {
                    "name": "stdout",
                    "output_type": "stream",
                    "text": "Requirement already satisfied: BeautifulSoup4 in /opt/conda/envs/Python36/lib/python3.6/site-packages (4.7.1)\nRequirement already satisfied: soupsieve>=1.2 in /opt/conda/envs/Python36/lib/python3.6/site-packages (from BeautifulSoup4) (1.7.1)\nRequirement already satisfied: requests in /opt/conda/envs/Python36/lib/python3.6/site-packages (2.21.0)\nRequirement already satisfied: idna<2.9,>=2.5 in /opt/conda/envs/Python36/lib/python3.6/site-packages (from requests) (2.8)\nRequirement already satisfied: certifi>=2017.4.17 in /opt/conda/envs/Python36/lib/python3.6/site-packages (from requests) (2020.4.5.1)\nRequirement already satisfied: urllib3<1.25,>=1.21.1 in /opt/conda/envs/Python36/lib/python3.6/site-packages (from requests) (1.24.1)\nRequirement already satisfied: chardet<3.1.0,>=3.0.2 in /opt/conda/envs/Python36/lib/python3.6/site-packages (from requests) (3.0.4)\n"
                }
            ],
            "source": "!pip install BeautifulSoup4\n!pip install requests"
        },
        {
            "cell_type": "code",
            "execution_count": 2,
            "metadata": {},
            "outputs": [],
            "source": "# importing necessary libraries\nimport pandas as pd\nimport numpy as np\nfrom bs4 import BeautifulSoup\nimport requests"
        },
        {
            "cell_type": "code",
            "execution_count": 3,
            "metadata": {},
            "outputs": [],
            "source": "# getting data from webpage\nURL='https://en.wikipedia.org/wiki/List_of_postal_codes_of_Canada:_M'\nURL_page= requests.get(URL).text\n\n# using beautiful soup to read lxml codes.\nsoup = BeautifulSoup(URL_page,'xml')\ntable = soup.body.table.tbody"
        },
        {
            "cell_type": "code",
            "execution_count": 4,
            "metadata": {},
            "outputs": [],
            "source": "# extracting the raw table inside that webpage\ndef table_cell(i):\n    cells = i.find_all('td')\n    row = []\n    \n    for cell in cells:\n        if cell.a:            \n            if (cell.a.text):\n                row.append(cell.a.text)\n                continue\n        row.append(cell.string.strip())\n        \n    return row\n\ndef table_row():    \n    data = []  \n    \n    for tr in table.find_all('tr'):\n        row = table_cell(tr)\n        if len(row) != 3:\n            continue\n        data.append(row)        \n    \n    return data"
        },
        {
            "cell_type": "code",
            "execution_count": 5,
            "metadata": {},
            "outputs": [
                {
                    "data": {
                        "text/html": "<div>\n<style scoped>\n    .dataframe tbody tr th:only-of-type {\n        vertical-align: middle;\n    }\n\n    .dataframe tbody tr th {\n        vertical-align: top;\n    }\n\n    .dataframe thead th {\n        text-align: right;\n    }\n</style>\n<table border=\"1\" class=\"dataframe\">\n  <thead>\n    <tr style=\"text-align: right;\">\n      <th></th>\n      <th>Postcode</th>\n      <th>Borough</th>\n      <th>Neighbourhood</th>\n    </tr>\n  </thead>\n  <tbody>\n    <tr>\n      <th>0</th>\n      <td>M1A</td>\n      <td>Not assigned</td>\n      <td></td>\n    </tr>\n    <tr>\n      <th>1</th>\n      <td>M2A</td>\n      <td>Not assigned</td>\n      <td></td>\n    </tr>\n    <tr>\n      <th>2</th>\n      <td>M3A</td>\n      <td>North York</td>\n      <td>Parkwoods</td>\n    </tr>\n    <tr>\n      <th>3</th>\n      <td>M4A</td>\n      <td>North York</td>\n      <td>Victoria Village</td>\n    </tr>\n    <tr>\n      <th>4</th>\n      <td>M5A</td>\n      <td>Downtown Toronto</td>\n      <td>Regent Park / Harbourfront</td>\n    </tr>\n  </tbody>\n</table>\n</div>",
                        "text/plain": "  Postcode           Borough               Neighbourhood\n0      M1A      Not assigned                            \n1      M2A      Not assigned                            \n2      M3A        North York                   Parkwoods\n3      M4A        North York            Victoria Village\n4      M5A  Downtown Toronto  Regent Park / Harbourfront"
                    },
                    "execution_count": 5,
                    "metadata": {},
                    "output_type": "execute_result"
                }
            ],
            "source": "#Creating DataFrame that consist of three columns: PostalCode, Borough, and Neighborhood\ndata = table_row()\ncolumns = ['Postcode', 'Borough', 'Neighbourhood']\nwiki = pd.DataFrame(data, columns=columns)\nwiki.head()"
        },
        {
            "cell_type": "code",
            "execution_count": 6,
            "metadata": {},
            "outputs": [
                {
                    "data": {
                        "text/plain": "(180, 3)"
                    },
                    "execution_count": 6,
                    "metadata": {},
                    "output_type": "execute_result"
                }
            ],
            "source": "wiki.shape"
        },
        {
            "cell_type": "markdown",
            "metadata": {},
            "source": "## Cleaning the data:"
        },
        {
            "cell_type": "code",
            "execution_count": 7,
            "metadata": {},
            "outputs": [],
            "source": "#Ignore cells with a borough that is Not assigned\nwiki = wiki[wiki['Borough'] != 'Not assigned']\n\n#Lets combine the neighborhoods with same Postcode in rows.\nwiki[\"Neighbourhood\"] = wiki.groupby(\"Postcode\")[\"Neighbourhood\"].transform(lambda neigh: ', '.join(neigh))\n\n#We have to separate the Neighbourhood with\"Comma\" instead of \"/\"\nwiki[\"Neighbourhood\"]= wiki[\"Neighbourhood\"].str.replace(\"/\", \", \")\n\n#To remove Duplicate Postcodes, we could assign the column as index and retain data as well.\nwiki.set_index(\"Postcode\", inplace=True)\n"
        },
        {
            "cell_type": "code",
            "execution_count": 8,
            "metadata": {},
            "outputs": [
                {
                    "data": {
                        "text/html": "<div>\n<style scoped>\n    .dataframe tbody tr th:only-of-type {\n        vertical-align: middle;\n    }\n\n    .dataframe tbody tr th {\n        vertical-align: top;\n    }\n\n    .dataframe thead th {\n        text-align: right;\n    }\n</style>\n<table border=\"1\" class=\"dataframe\">\n  <thead>\n    <tr style=\"text-align: right;\">\n      <th></th>\n      <th>Borough</th>\n      <th>Neighbourhood</th>\n    </tr>\n    <tr>\n      <th>Postcode</th>\n      <th></th>\n      <th></th>\n    </tr>\n  </thead>\n  <tbody>\n    <tr>\n      <th>M3A</th>\n      <td>North York</td>\n      <td>Parkwoods</td>\n    </tr>\n    <tr>\n      <th>M4A</th>\n      <td>North York</td>\n      <td>Victoria Village</td>\n    </tr>\n    <tr>\n      <th>M5A</th>\n      <td>Downtown Toronto</td>\n      <td>Regent Park ,  Harbourfront</td>\n    </tr>\n    <tr>\n      <th>M6A</th>\n      <td>North York</td>\n      <td>Lawrence Manor ,  Lawrence Heights</td>\n    </tr>\n    <tr>\n      <th>M7A</th>\n      <td>Downtown Toronto</td>\n      <td>Queen's Park ,  Ontario Provincial Government</td>\n    </tr>\n    <tr>\n      <th>M9A</th>\n      <td>Etobicoke</td>\n      <td>Islington Avenue</td>\n    </tr>\n    <tr>\n      <th>M1B</th>\n      <td>Scarborough</td>\n      <td>Malvern ,  Rouge</td>\n    </tr>\n    <tr>\n      <th>M3B</th>\n      <td>North York</td>\n      <td>Don Mills</td>\n    </tr>\n    <tr>\n      <th>M4B</th>\n      <td>East York</td>\n      <td>Parkview Hill ,  Woodbine Gardens</td>\n    </tr>\n    <tr>\n      <th>M5B</th>\n      <td>Downtown Toronto</td>\n      <td>Garden District, Ryerson</td>\n    </tr>\n    <tr>\n      <th>M6B</th>\n      <td>North York</td>\n      <td>Glencairn</td>\n    </tr>\n    <tr>\n      <th>M9B</th>\n      <td>Etobicoke</td>\n      <td>West Deane Park ,  Princess Gardens ,  Martin ...</td>\n    </tr>\n    <tr>\n      <th>M1C</th>\n      <td>Scarborough</td>\n      <td>Rouge Hill ,  Port Union ,  Highland Creek</td>\n    </tr>\n    <tr>\n      <th>M3C</th>\n      <td>North York</td>\n      <td>Don Mills</td>\n    </tr>\n    <tr>\n      <th>M4C</th>\n      <td>East York</td>\n      <td>Woodbine Heights</td>\n    </tr>\n    <tr>\n      <th>M5C</th>\n      <td>Downtown Toronto</td>\n      <td>St. James Town</td>\n    </tr>\n    <tr>\n      <th>M6C</th>\n      <td>York</td>\n      <td>Humewood-Cedarvale</td>\n    </tr>\n    <tr>\n      <th>M9C</th>\n      <td>Etobicoke</td>\n      <td>Eringate ,  Bloordale Gardens ,  Old Burnhamth...</td>\n    </tr>\n    <tr>\n      <th>M1E</th>\n      <td>Scarborough</td>\n      <td>Guildwood ,  Morningside ,  West Hill</td>\n    </tr>\n    <tr>\n      <th>M4E</th>\n      <td>East Toronto</td>\n      <td>The Beaches</td>\n    </tr>\n  </tbody>\n</table>\n</div>",
                        "text/plain": "                   Borough                                      Neighbourhood\nPostcode                                                                     \nM3A             North York                                          Parkwoods\nM4A             North York                                   Victoria Village\nM5A       Downtown Toronto                        Regent Park ,  Harbourfront\nM6A             North York                 Lawrence Manor ,  Lawrence Heights\nM7A       Downtown Toronto      Queen's Park ,  Ontario Provincial Government\nM9A              Etobicoke                                   Islington Avenue\nM1B            Scarborough                                   Malvern ,  Rouge\nM3B             North York                                          Don Mills\nM4B              East York                  Parkview Hill ,  Woodbine Gardens\nM5B       Downtown Toronto                           Garden District, Ryerson\nM6B             North York                                          Glencairn\nM9B              Etobicoke  West Deane Park ,  Princess Gardens ,  Martin ...\nM1C            Scarborough         Rouge Hill ,  Port Union ,  Highland Creek\nM3C             North York                                          Don Mills\nM4C              East York                                   Woodbine Heights\nM5C       Downtown Toronto                                     St. James Town\nM6C                   York                                 Humewood-Cedarvale\nM9C              Etobicoke  Eringate ,  Bloordale Gardens ,  Old Burnhamth...\nM1E            Scarborough              Guildwood ,  Morningside ,  West Hill\nM4E           East Toronto                                        The Beaches"
                    },
                    "execution_count": 8,
                    "metadata": {},
                    "output_type": "execute_result"
                }
            ],
            "source": "#Check the Data\nwiki.head(20)"
        },
        {
            "cell_type": "code",
            "execution_count": 9,
            "metadata": {},
            "outputs": [
                {
                    "name": "stdout",
                    "output_type": "stream",
                    "text": "(103, 2)\n"
                }
            ],
            "source": "#look up the Shape of wikidata\nprint (wiki.shape)"
        },
        {
            "cell_type": "code",
            "execution_count": 10,
            "metadata": {},
            "outputs": [
                {
                    "data": {
                        "text/html": "<div>\n<style scoped>\n    .dataframe tbody tr th:only-of-type {\n        vertical-align: middle;\n    }\n\n    .dataframe tbody tr th {\n        vertical-align: top;\n    }\n\n    .dataframe thead th {\n        text-align: right;\n    }\n</style>\n<table border=\"1\" class=\"dataframe\">\n  <thead>\n    <tr style=\"text-align: right;\">\n      <th></th>\n      <th>Postal Code</th>\n      <th>Latitude</th>\n      <th>Longitude</th>\n    </tr>\n  </thead>\n  <tbody>\n    <tr>\n      <th>0</th>\n      <td>M1B</td>\n      <td>43.806686</td>\n      <td>-79.194353</td>\n    </tr>\n    <tr>\n      <th>1</th>\n      <td>M1C</td>\n      <td>43.784535</td>\n      <td>-79.160497</td>\n    </tr>\n    <tr>\n      <th>2</th>\n      <td>M1E</td>\n      <td>43.763573</td>\n      <td>-79.188711</td>\n    </tr>\n    <tr>\n      <th>3</th>\n      <td>M1G</td>\n      <td>43.770992</td>\n      <td>-79.216917</td>\n    </tr>\n    <tr>\n      <th>4</th>\n      <td>M1H</td>\n      <td>43.773136</td>\n      <td>-79.239476</td>\n    </tr>\n  </tbody>\n</table>\n</div>",
                        "text/plain": "  Postal Code   Latitude  Longitude\n0         M1B  43.806686 -79.194353\n1         M1C  43.784535 -79.160497\n2         M1E  43.763573 -79.188711\n3         M1G  43.770992 -79.216917\n4         M1H  43.773136 -79.239476"
                    },
                    "execution_count": 10,
                    "metadata": {},
                    "output_type": "execute_result"
                }
            ],
            "source": "#2 Task of fetching geolocation data from geocoder or http://cocl.us/Geospatial_data\n\n!wget -q -O \"toronto_coordinates.csv\" http://cocl.us/Geospatial_data\nLat_Long = pd.read_csv('toronto_coordinates.csv')\nLat_Long.head()"
        },
        {
            "cell_type": "code",
            "execution_count": 11,
            "metadata": {},
            "outputs": [
                {
                    "data": {
                        "text/plain": "(103, 3)"
                    },
                    "execution_count": 11,
                    "metadata": {},
                    "output_type": "execute_result"
                }
            ],
            "source": "Lat_Long.shape\n"
        },
        {
            "cell_type": "markdown",
            "metadata": {},
            "source": "**We need to merge the DataFrames in a correct manner so that every Postal Code (common in both DataFrames) relates to its relevant co-ordinates available in the geocoder data of new DataFrame**\n### first we will match the index name of both DataFrames"
        },
        {
            "cell_type": "code",
            "execution_count": 12,
            "metadata": {},
            "outputs": [
                {
                    "data": {
                        "text/html": "<div>\n<style scoped>\n    .dataframe tbody tr th:only-of-type {\n        vertical-align: middle;\n    }\n\n    .dataframe tbody tr th {\n        vertical-align: top;\n    }\n\n    .dataframe thead th {\n        text-align: right;\n    }\n</style>\n<table border=\"1\" class=\"dataframe\">\n  <thead>\n    <tr style=\"text-align: right;\">\n      <th></th>\n      <th>Borough</th>\n      <th>Neighbourhood</th>\n    </tr>\n    <tr>\n      <th>Postal Code</th>\n      <th></th>\n      <th></th>\n    </tr>\n  </thead>\n  <tbody>\n    <tr>\n      <th>M3A</th>\n      <td>North York</td>\n      <td>Parkwoods</td>\n    </tr>\n    <tr>\n      <th>M4A</th>\n      <td>North York</td>\n      <td>Victoria Village</td>\n    </tr>\n  </tbody>\n</table>\n</div>",
                        "text/plain": "                Borough     Neighbourhood\nPostal Code                              \nM3A          North York         Parkwoods\nM4A          North York  Victoria Village"
                    },
                    "execution_count": 12,
                    "metadata": {},
                    "output_type": "execute_result"
                }
            ],
            "source": "#changing the name of First DataFrame \"wiki\" to be same as that of the new DataFrame derrived in Lat_long\nwiki.index.name=\"Postal Code\"\nwiki.head(2)"
        },
        {
            "cell_type": "code",
            "execution_count": 13,
            "metadata": {},
            "outputs": [
                {
                    "data": {
                        "text/html": "<div>\n<style scoped>\n    .dataframe tbody tr th:only-of-type {\n        vertical-align: middle;\n    }\n\n    .dataframe tbody tr th {\n        vertical-align: top;\n    }\n\n    .dataframe thead th {\n        text-align: right;\n    }\n</style>\n<table border=\"1\" class=\"dataframe\">\n  <thead>\n    <tr style=\"text-align: right;\">\n      <th></th>\n      <th>Borough</th>\n      <th>Neighbourhood</th>\n      <th>Latitude</th>\n      <th>Longitude</th>\n    </tr>\n    <tr>\n      <th>Postal Code</th>\n      <th></th>\n      <th></th>\n      <th></th>\n      <th></th>\n    </tr>\n  </thead>\n  <tbody>\n    <tr>\n      <th>M3A</th>\n      <td>North York</td>\n      <td>Parkwoods</td>\n      <td>43.753259</td>\n      <td>-79.329656</td>\n    </tr>\n    <tr>\n      <th>M4A</th>\n      <td>North York</td>\n      <td>Victoria Village</td>\n      <td>43.725882</td>\n      <td>-79.315572</td>\n    </tr>\n    <tr>\n      <th>M5A</th>\n      <td>Downtown Toronto</td>\n      <td>Regent Park ,  Harbourfront</td>\n      <td>43.654260</td>\n      <td>-79.360636</td>\n    </tr>\n    <tr>\n      <th>M6A</th>\n      <td>North York</td>\n      <td>Lawrence Manor ,  Lawrence Heights</td>\n      <td>43.718518</td>\n      <td>-79.464763</td>\n    </tr>\n    <tr>\n      <th>M7A</th>\n      <td>Downtown Toronto</td>\n      <td>Queen's Park ,  Ontario Provincial Government</td>\n      <td>43.662301</td>\n      <td>-79.389494</td>\n    </tr>\n    <tr>\n      <th>M9A</th>\n      <td>Etobicoke</td>\n      <td>Islington Avenue</td>\n      <td>43.667856</td>\n      <td>-79.532242</td>\n    </tr>\n    <tr>\n      <th>M1B</th>\n      <td>Scarborough</td>\n      <td>Malvern ,  Rouge</td>\n      <td>43.806686</td>\n      <td>-79.194353</td>\n    </tr>\n    <tr>\n      <th>M3B</th>\n      <td>North York</td>\n      <td>Don Mills</td>\n      <td>43.745906</td>\n      <td>-79.352188</td>\n    </tr>\n    <tr>\n      <th>M4B</th>\n      <td>East York</td>\n      <td>Parkview Hill ,  Woodbine Gardens</td>\n      <td>43.706397</td>\n      <td>-79.309937</td>\n    </tr>\n    <tr>\n      <th>M5B</th>\n      <td>Downtown Toronto</td>\n      <td>Garden District, Ryerson</td>\n      <td>43.657162</td>\n      <td>-79.378937</td>\n    </tr>\n    <tr>\n      <th>M6B</th>\n      <td>North York</td>\n      <td>Glencairn</td>\n      <td>43.709577</td>\n      <td>-79.445073</td>\n    </tr>\n  </tbody>\n</table>\n</div>",
                        "text/plain": "                      Borough                                  Neighbourhood  \\\nPostal Code                                                                    \nM3A                North York                                      Parkwoods   \nM4A                North York                               Victoria Village   \nM5A          Downtown Toronto                    Regent Park ,  Harbourfront   \nM6A                North York             Lawrence Manor ,  Lawrence Heights   \nM7A          Downtown Toronto  Queen's Park ,  Ontario Provincial Government   \nM9A                 Etobicoke                               Islington Avenue   \nM1B               Scarborough                               Malvern ,  Rouge   \nM3B                North York                                      Don Mills   \nM4B                 East York              Parkview Hill ,  Woodbine Gardens   \nM5B          Downtown Toronto                       Garden District, Ryerson   \nM6B                North York                                      Glencairn   \n\n              Latitude  Longitude  \nPostal Code                        \nM3A          43.753259 -79.329656  \nM4A          43.725882 -79.315572  \nM5A          43.654260 -79.360636  \nM6A          43.718518 -79.464763  \nM7A          43.662301 -79.389494  \nM9A          43.667856 -79.532242  \nM1B          43.806686 -79.194353  \nM3B          43.745906 -79.352188  \nM4B          43.706397 -79.309937  \nM5B          43.657162 -79.378937  \nM6B          43.709577 -79.445073  "
                    },
                    "execution_count": 13,
                    "metadata": {},
                    "output_type": "execute_result"
                }
            ],
            "source": "Wiki_coords = pd.merge(wiki,  \n                      Lat_Long,  \n                      on ='Postal Code',  \n                      how ='inner') \nWiki_coords.set_index(\"Postal Code\", inplace=True)\nWiki_coords.head(11)"
        },
        {
            "cell_type": "markdown",
            "metadata": {},
            "source": "**Explore and cluster the neighborhoods in Toronto. You can decide to work with only boroughs that contain the word Toronto and then replicate the same analysis we did to the New York City data. It is up to you.**\n\nJust make sure:\n\n- to add enough Markdown cells to explain what you decided to do and to report any observations you make.  \n- to generate maps to visualize your neighborhoods and how they cluster together.\n"
        },
        {
            "cell_type": "markdown",
            "metadata": {},
            "source": "## Segmenting and Clustering Neighborhoods in Toronto"
        },
        {
            "cell_type": "code",
            "execution_count": 14,
            "metadata": {},
            "outputs": [
                {
                    "name": "stdout",
                    "output_type": "stream",
                    "text": "Libraries imported.\n"
                }
            ],
            "source": "import json # library to handle JSON files\n\n#!conda install -c conda-forge geopy --yes # uncomment this line if you haven't completed the Foursquare API lab\nfrom geopy.geocoders import Nominatim # convert an address into latitude and longitude values\n\nimport requests # library to handle requests\nfrom pandas.io.json import json_normalize # tranform JSON file into a pandas dataframe\n\n# Matplotlib and associated plotting modules\nimport matplotlib.cm as cm\nimport matplotlib.colors as colors\n\n# import k-means from clustering stage\nfrom sklearn.cluster import KMeans\n\nimport folium # map rendering library\n\nprint('Libraries imported.')"
        },
        {
            "cell_type": "code",
            "execution_count": 15,
            "metadata": {},
            "outputs": [
                {
                    "data": {
                        "text/html": "<div>\n<style scoped>\n    .dataframe tbody tr th:only-of-type {\n        vertical-align: middle;\n    }\n\n    .dataframe tbody tr th {\n        vertical-align: top;\n    }\n\n    .dataframe thead th {\n        text-align: right;\n    }\n</style>\n<table border=\"1\" class=\"dataframe\">\n  <thead>\n    <tr style=\"text-align: right;\">\n      <th></th>\n      <th>Borough</th>\n      <th>Neighbourhood</th>\n      <th>Latitude</th>\n      <th>Longitude</th>\n    </tr>\n  </thead>\n  <tbody>\n    <tr>\n      <th>0</th>\n      <td>Downtown Toronto</td>\n      <td>Regent Park ,  Harbourfront</td>\n      <td>43.654260</td>\n      <td>-79.360636</td>\n    </tr>\n    <tr>\n      <th>1</th>\n      <td>Downtown Toronto</td>\n      <td>Queen's Park ,  Ontario Provincial Government</td>\n      <td>43.662301</td>\n      <td>-79.389494</td>\n    </tr>\n    <tr>\n      <th>2</th>\n      <td>Downtown Toronto</td>\n      <td>Garden District, Ryerson</td>\n      <td>43.657162</td>\n      <td>-79.378937</td>\n    </tr>\n    <tr>\n      <th>3</th>\n      <td>Downtown Toronto</td>\n      <td>St. James Town</td>\n      <td>43.651494</td>\n      <td>-79.375418</td>\n    </tr>\n    <tr>\n      <th>4</th>\n      <td>Downtown Toronto</td>\n      <td>Berczy Park</td>\n      <td>43.644771</td>\n      <td>-79.373306</td>\n    </tr>\n  </tbody>\n</table>\n</div>",
                        "text/plain": "            Borough                                  Neighbourhood   Latitude  \\\n0  Downtown Toronto                    Regent Park ,  Harbourfront  43.654260   \n1  Downtown Toronto  Queen's Park ,  Ontario Provincial Government  43.662301   \n2  Downtown Toronto                       Garden District, Ryerson  43.657162   \n3  Downtown Toronto                                 St. James Town  43.651494   \n4  Downtown Toronto                                    Berczy Park  43.644771   \n\n   Longitude  \n0 -79.360636  \n1 -79.389494  \n2 -79.378937  \n3 -79.375418  \n4 -79.373306  "
                    },
                    "execution_count": 15,
                    "metadata": {},
                    "output_type": "execute_result"
                }
            ],
            "source": "toronto_data = Wiki_coords[Wiki_coords['Borough'] == 'Downtown Toronto'].reset_index(drop=True)\ntoronto_data.head()"
        },
        {
            "cell_type": "markdown",
            "metadata": {},
            "source": "### Let's get the geographical coordinates of Toronto."
        },
        {
            "cell_type": "code",
            "execution_count": 16,
            "metadata": {},
            "outputs": [
                {
                    "name": "stdout",
                    "output_type": "stream",
                    "text": "The geograpical coordinates of Downtown Toronto are 43.6534817, -79.3839347.\n"
                }
            ],
            "source": "#get the coordinates for Downtown Toronto\naddress = 'Toronto, Canada'\n\ngeolocator = Nominatim(user_agent=\"ny_explorer\")\nlocation = geolocator.geocode(address)\nlatitude = location.latitude\nlongitude = location.longitude\nprint('The geograpical coordinates of Downtown Toronto are {}, {}.'.format(latitude, longitude))"
        },
        {
            "cell_type": "markdown",
            "metadata": {},
            "source": "**Now, let's visualizat Downtown Toronto the neighborhoods in map**"
        },
        {
            "cell_type": "code",
            "execution_count": 18,
            "metadata": {},
            "outputs": [
                {
                    "data": {
                        "text/html": "<div style=\"width:100%;\"><div style=\"position:relative;width:100%;height:0;padding-bottom:60%;\"><iframe src=\"about:blank\" style=\"position:absolute;width:100%;height:100%;left:0;top:0;border:none !important;\" data-html=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 onload=\"this.contentDocument.open();this.contentDocument.write(atob(this.getAttribute('data-html')));this.contentDocument.close();\" allowfullscreen webkitallowfullscreen mozallowfullscreen></iframe></div></div>",
                        "text/plain": "<folium.folium.Map at 0x7f12090a3630>"
                    },
                    "execution_count": 18,
                    "metadata": {},
                    "output_type": "execute_result"
                }
            ],
            "source": "# create map of toronto using latitude and longitude values\nmap_toronto_data = folium.Map(location=[latitude, longitude], zoom_start=11)\n\nmap_toronto_data = folium.Map(location=[latitude, longitude], zoom_start=13)\n\n# add markers to map\nfor lat, lng, label in zip(toronto_data['Latitude'], toronto_data['Longitude'], toronto_data['Neighbourhood']):\n    label = folium.Popup(label, parse_html=True)\n    folium.CircleMarker(\n        [lat, lng],\n        radius=5,\n        popup=label,\n        color='blue',\n        fill=True,\n        fill_color='#3186cc',\n        fill_opacity=0.7,\n        parse_html=False).add_to(map_toronto_data)  \n    \nmap_toronto_data"
        },
        {
            "cell_type": "markdown",
            "metadata": {},
            "source": "**Next, we are going to start utilizing the Foursquare API to explore the neighborhoods and segment them**"
        },
        {
            "cell_type": "code",
            "execution_count": 19,
            "metadata": {},
            "outputs": [],
            "source": "# The code was removed by Watson Studio for sharing."
        },
        {
            "cell_type": "markdown",
            "metadata": {},
            "source": "**the credentials have been suppressed**  \n**Let's explore the first neighborhood in our dataframe**"
        },
        {
            "cell_type": "code",
            "execution_count": 20,
            "metadata": {},
            "outputs": [
                {
                    "data": {
                        "text/plain": "'Regent Park ,  Harbourfront'"
                    },
                    "execution_count": 20,
                    "metadata": {},
                    "output_type": "execute_result"
                }
            ],
            "source": "toronto_data.loc[0, 'Neighbourhood']"
        },
        {
            "cell_type": "markdown",
            "metadata": {},
            "source": "Get the neighborhood's latitude and longitude values."
        },
        {
            "cell_type": "code",
            "execution_count": 21,
            "metadata": {},
            "outputs": [
                {
                    "name": "stdout",
                    "output_type": "stream",
                    "text": "Latitude and longitude values of Regent Park ,  Harbourfront are 43.6542599, -79.3606359.\n"
                }
            ],
            "source": "neighbourhood_latitude = toronto_data.loc[0, 'Latitude'] # neighborhood latitude value\nneighbourhood_longitude = toronto_data.loc[0, 'Longitude'] # neighborhood longitude value\n\nneighbourhood_name = toronto_data.loc[0, 'Neighbourhood'] # neighborhood name\n\nprint('Latitude and longitude values of {} are {}, {}.'.format(neighbourhood_name, \n                                                               neighbourhood_latitude, \n                                                               neighbourhood_longitude))"
        },
        {
            "cell_type": "markdown",
            "metadata": {},
            "source": "#### Now, let's get the top 100 venues that are in Harbourfront within a radius of 500 meters."
        },
        {
            "cell_type": "markdown",
            "metadata": {},
            "source": "First, let's create the GET request URL"
        },
        {
            "cell_type": "code",
            "execution_count": 22,
            "metadata": {},
            "outputs": [],
            "source": "LIMIT = 100 # limit of number of venues returned by Foursquare API\nradius = 500 # define radius\n# create URL\nurl1 = 'https://api.foursquare.com/v2/venues/explore?&client_id={}&client_secret={}&v={}&ll={},{}&radius={}&limit={}'.format(\n    CLIENT_ID, \n    CLIENT_SECRET, \n    VERSION, \n    neighbourhood_latitude, \n    neighbourhood_longitude, \n    radius, \n    LIMIT)"
        },
        {
            "cell_type": "markdown",
            "metadata": {},
            "source": "Send the GET request and examine the resutls"
        },
        {
            "cell_type": "code",
            "execution_count": 23,
            "metadata": {},
            "outputs": [],
            "source": "results = requests.get(url1).json()\n#results #stored in results"
        },
        {
            "cell_type": "markdown",
            "metadata": {},
            "source": "Now, let's borrow the **get_category_type** function from the Foursquare lab."
        },
        {
            "cell_type": "code",
            "execution_count": 24,
            "metadata": {},
            "outputs": [],
            "source": "# function that extracts the category of the venue\ndef get_category_type(row):\n    try:\n        categories_list = row['categories']\n    except:\n        categories_list = row['venue.categories']\n        \n    if len(categories_list) == 0:\n        return None\n    else:\n        return categories_list[0]['name']"
        },
        {
            "cell_type": "markdown",
            "metadata": {},
            "source": "Now we are ready to clean the json and structure it into a *pandas* dataframe."
        },
        {
            "cell_type": "code",
            "execution_count": 25,
            "metadata": {},
            "outputs": [
                {
                    "data": {
                        "text/html": "<div>\n<style scoped>\n    .dataframe tbody tr th:only-of-type {\n        vertical-align: middle;\n    }\n\n    .dataframe tbody tr th {\n        vertical-align: top;\n    }\n\n    .dataframe thead th {\n        text-align: right;\n    }\n</style>\n<table border=\"1\" class=\"dataframe\">\n  <thead>\n    <tr style=\"text-align: right;\">\n      <th></th>\n      <th>name</th>\n      <th>categories</th>\n      <th>lat</th>\n      <th>lng</th>\n    </tr>\n  </thead>\n  <tbody>\n    <tr>\n      <th>0</th>\n      <td>Roselle Desserts</td>\n      <td>Bakery</td>\n      <td>43.653447</td>\n      <td>-79.362017</td>\n    </tr>\n    <tr>\n      <th>1</th>\n      <td>Tandem Coffee</td>\n      <td>Coffee Shop</td>\n      <td>43.653559</td>\n      <td>-79.361809</td>\n    </tr>\n    <tr>\n      <th>2</th>\n      <td>Morning Glory Cafe</td>\n      <td>Breakfast Spot</td>\n      <td>43.653947</td>\n      <td>-79.361149</td>\n    </tr>\n    <tr>\n      <th>3</th>\n      <td>Cooper Koo Family YMCA</td>\n      <td>Distribution Center</td>\n      <td>43.653249</td>\n      <td>-79.358008</td>\n    </tr>\n    <tr>\n      <th>4</th>\n      <td>Body Blitz Spa East</td>\n      <td>Spa</td>\n      <td>43.654735</td>\n      <td>-79.359874</td>\n    </tr>\n  </tbody>\n</table>\n</div>",
                        "text/plain": "                     name           categories        lat        lng\n0        Roselle Desserts               Bakery  43.653447 -79.362017\n1           Tandem Coffee          Coffee Shop  43.653559 -79.361809\n2      Morning Glory Cafe       Breakfast Spot  43.653947 -79.361149\n3  Cooper Koo Family YMCA  Distribution Center  43.653249 -79.358008\n4     Body Blitz Spa East                  Spa  43.654735 -79.359874"
                    },
                    "execution_count": 25,
                    "metadata": {},
                    "output_type": "execute_result"
                }
            ],
            "source": "venues = results['response']['groups'][0]['items']\n    \nnearby_venues = json_normalize(venues) # flatten JSON\n\n# filter columns\nfiltered_columns = ['venue.name', 'venue.categories', 'venue.location.lat', 'venue.location.lng']\nnearby_venues =nearby_venues.loc[:, filtered_columns]\n\n# filter the category for each row\nnearby_venues['venue.categories'] = nearby_venues.apply(get_category_type, axis=1)\n\n# clean columns\nnearby_venues.columns = [col.split(\".\")[-1] for col in nearby_venues.columns]\n\nnearby_venues.head()"
        },
        {
            "cell_type": "code",
            "execution_count": 26,
            "metadata": {},
            "outputs": [
                {
                    "name": "stdout",
                    "output_type": "stream",
                    "text": "48 venues were returned by Foursquare.\n"
                }
            ],
            "source": "print('{} venues were returned by Foursquare.'.format(nearby_venues.shape[0]))"
        },
        {
            "cell_type": "markdown",
            "metadata": {},
            "source": "## 2. Explore Neighborhoods in Downtown Toronto"
        },
        {
            "cell_type": "code",
            "execution_count": 27,
            "metadata": {},
            "outputs": [],
            "source": "def getNearbyVenues(names, latitudes, longitudes, radius=500):\n    \n    venues_list=[]\n    for name, lat, lng in zip(names, latitudes, longitudes):\n        print(name)\n            \n        # create the API request URL\n        url = 'https://api.foursquare.com/v2/venues/explore?&client_id={}&client_secret={}&v={}&ll={},{}&radius={}&limit={}'.format(\n            CLIENT_ID, \n            CLIENT_SECRET, \n            VERSION, \n            lat, \n            lng, \n            radius, \n            LIMIT)\n            \n        # make the GET request\n        results = requests.get(url).json()[\"response\"]['groups'][0]['items']\n        \n        # return only relevant information for each nearby venue\n        venues_list.append([(\n            name, \n            lat, \n            lng, \n            v['venue']['name'], \n            v['venue']['location']['lat'], \n            v['venue']['location']['lng'],  \n            v['venue']['categories'][0]['name']) for v in results])\n\n    nearby_venues = pd.DataFrame([item for venue_list in venues_list for item in venue_list])\n    nearby_venues.columns = ['Neighbourhood', \n                  'Neighbourhood Latitude', \n                  'Neighbourhood Longitude', \n                  'Venue', \n                  'Venue Latitude', \n                  'Venue Longitude', \n                  'Venue Category']\n    \n    return(nearby_venues)"
        },
        {
            "cell_type": "code",
            "execution_count": 28,
            "metadata": {},
            "outputs": [
                {
                    "name": "stdout",
                    "output_type": "stream",
                    "text": "Regent Park ,  Harbourfront\nQueen's Park ,  Ontario Provincial Government\nGarden District, Ryerson\nSt. James Town\nBerczy Park\nCentral Bay Street\nChristie\nRichmond ,  Adelaide ,  King\nHarbourfront East ,  Union Station ,  Toronto Islands\nToronto Dominion Centre ,  Design Exchange\nCommerce Court ,  Victoria Hotel\nUniversity of Toronto ,  Harbord\nKensington Market ,  Chinatown ,  Grange Park\nCN Tower ,  King and Spadina ,  Railway Lands ,  Harbourfront West ,  Bathurst Quay ,  South Niagara ,  Island airport\nRosedale\nStn A PO Boxes\nSt. James Town ,  Cabbagetown\nFirst Canadian Place ,  Underground city\nChurch and Wellesley\n"
                }
            ],
            "source": "toronto_venues = getNearbyVenues(names=toronto_data['Neighbourhood'],\n                                   latitudes=toronto_data['Latitude'],\n                                   longitudes=toronto_data['Longitude']\n                                  )"
        },
        {
            "cell_type": "code",
            "execution_count": 29,
            "metadata": {},
            "outputs": [
                {
                    "name": "stdout",
                    "output_type": "stream",
                    "text": "(1225, 7)\n"
                },
                {
                    "data": {
                        "text/html": "<div>\n<style scoped>\n    .dataframe tbody tr th:only-of-type {\n        vertical-align: middle;\n    }\n\n    .dataframe tbody tr th {\n        vertical-align: top;\n    }\n\n    .dataframe thead th {\n        text-align: right;\n    }\n</style>\n<table border=\"1\" class=\"dataframe\">\n  <thead>\n    <tr style=\"text-align: right;\">\n      <th></th>\n      <th>Neighbourhood</th>\n      <th>Neighbourhood Latitude</th>\n      <th>Neighbourhood Longitude</th>\n      <th>Venue</th>\n      <th>Venue Latitude</th>\n      <th>Venue Longitude</th>\n      <th>Venue Category</th>\n    </tr>\n  </thead>\n  <tbody>\n    <tr>\n      <th>0</th>\n      <td>Regent Park ,  Harbourfront</td>\n      <td>43.65426</td>\n      <td>-79.360636</td>\n      <td>Roselle Desserts</td>\n      <td>43.653447</td>\n      <td>-79.362017</td>\n      <td>Bakery</td>\n    </tr>\n    <tr>\n      <th>1</th>\n      <td>Regent Park ,  Harbourfront</td>\n      <td>43.65426</td>\n      <td>-79.360636</td>\n      <td>Tandem Coffee</td>\n      <td>43.653559</td>\n      <td>-79.361809</td>\n      <td>Coffee Shop</td>\n    </tr>\n    <tr>\n      <th>2</th>\n      <td>Regent Park ,  Harbourfront</td>\n      <td>43.65426</td>\n      <td>-79.360636</td>\n      <td>Morning Glory Cafe</td>\n      <td>43.653947</td>\n      <td>-79.361149</td>\n      <td>Breakfast Spot</td>\n    </tr>\n    <tr>\n      <th>3</th>\n      <td>Regent Park ,  Harbourfront</td>\n      <td>43.65426</td>\n      <td>-79.360636</td>\n      <td>Cooper Koo Family YMCA</td>\n      <td>43.653249</td>\n      <td>-79.358008</td>\n      <td>Distribution Center</td>\n    </tr>\n    <tr>\n      <th>4</th>\n      <td>Regent Park ,  Harbourfront</td>\n      <td>43.65426</td>\n      <td>-79.360636</td>\n      <td>Body Blitz Spa East</td>\n      <td>43.654735</td>\n      <td>-79.359874</td>\n      <td>Spa</td>\n    </tr>\n  </tbody>\n</table>\n</div>",
                        "text/plain": "                 Neighbourhood  Neighbourhood Latitude  \\\n0  Regent Park ,  Harbourfront                43.65426   \n1  Regent Park ,  Harbourfront                43.65426   \n2  Regent Park ,  Harbourfront                43.65426   \n3  Regent Park ,  Harbourfront                43.65426   \n4  Regent Park ,  Harbourfront                43.65426   \n\n   Neighbourhood Longitude                   Venue  Venue Latitude  \\\n0               -79.360636        Roselle Desserts       43.653447   \n1               -79.360636           Tandem Coffee       43.653559   \n2               -79.360636      Morning Glory Cafe       43.653947   \n3               -79.360636  Cooper Koo Family YMCA       43.653249   \n4               -79.360636     Body Blitz Spa East       43.654735   \n\n   Venue Longitude       Venue Category  \n0       -79.362017               Bakery  \n1       -79.361809          Coffee Shop  \n2       -79.361149       Breakfast Spot  \n3       -79.358008  Distribution Center  \n4       -79.359874                  Spa  "
                    },
                    "execution_count": 29,
                    "metadata": {},
                    "output_type": "execute_result"
                }
            ],
            "source": "print(toronto_venues.shape)\ntoronto_venues.head()"
        },
        {
            "cell_type": "markdown",
            "metadata": {},
            "source": "Let's check how many different venues were returned for each neighborhood"
        },
        {
            "cell_type": "code",
            "execution_count": 30,
            "metadata": {},
            "outputs": [
                {
                    "data": {
                        "text/html": "<div>\n<style scoped>\n    .dataframe tbody tr th:only-of-type {\n        vertical-align: middle;\n    }\n\n    .dataframe tbody tr th {\n        vertical-align: top;\n    }\n\n    .dataframe thead th {\n        text-align: right;\n    }\n</style>\n<table border=\"1\" class=\"dataframe\">\n  <thead>\n    <tr style=\"text-align: right;\">\n      <th></th>\n      <th>Neighbourhood Latitude</th>\n      <th>Neighbourhood Longitude</th>\n      <th>Venue</th>\n      <th>Venue Latitude</th>\n      <th>Venue Longitude</th>\n      <th>Venue Category</th>\n    </tr>\n    <tr>\n      <th>Neighbourhood</th>\n      <th></th>\n      <th></th>\n      <th></th>\n      <th></th>\n      <th></th>\n      <th></th>\n    </tr>\n  </thead>\n  <tbody>\n    <tr>\n      <th>Berczy Park</th>\n      <td>57</td>\n      <td>57</td>\n      <td>57</td>\n      <td>57</td>\n      <td>57</td>\n      <td>57</td>\n    </tr>\n    <tr>\n      <th>CN Tower ,  King and Spadina ,  Railway Lands ,  Harbourfront West ,  Bathurst Quay ,  South Niagara ,  Island airport</th>\n      <td>17</td>\n      <td>17</td>\n      <td>17</td>\n      <td>17</td>\n      <td>17</td>\n      <td>17</td>\n    </tr>\n    <tr>\n      <th>Central Bay Street</th>\n      <td>63</td>\n      <td>63</td>\n      <td>63</td>\n      <td>63</td>\n      <td>63</td>\n      <td>63</td>\n    </tr>\n    <tr>\n      <th>Christie</th>\n      <td>17</td>\n      <td>17</td>\n      <td>17</td>\n      <td>17</td>\n      <td>17</td>\n      <td>17</td>\n    </tr>\n    <tr>\n      <th>Church and Wellesley</th>\n      <td>78</td>\n      <td>78</td>\n      <td>78</td>\n      <td>78</td>\n      <td>78</td>\n      <td>78</td>\n    </tr>\n    <tr>\n      <th>Commerce Court ,  Victoria Hotel</th>\n      <td>100</td>\n      <td>100</td>\n      <td>100</td>\n      <td>100</td>\n      <td>100</td>\n      <td>100</td>\n    </tr>\n    <tr>\n      <th>First Canadian Place ,  Underground city</th>\n      <td>100</td>\n      <td>100</td>\n      <td>100</td>\n      <td>100</td>\n      <td>100</td>\n      <td>100</td>\n    </tr>\n    <tr>\n      <th>Garden District, Ryerson</th>\n      <td>100</td>\n      <td>100</td>\n      <td>100</td>\n      <td>100</td>\n      <td>100</td>\n      <td>100</td>\n    </tr>\n    <tr>\n      <th>Harbourfront East ,  Union Station ,  Toronto Islands</th>\n      <td>100</td>\n      <td>100</td>\n      <td>100</td>\n      <td>100</td>\n      <td>100</td>\n      <td>100</td>\n    </tr>\n    <tr>\n      <th>Kensington Market ,  Chinatown ,  Grange Park</th>\n      <td>55</td>\n      <td>55</td>\n      <td>55</td>\n      <td>55</td>\n      <td>55</td>\n      <td>55</td>\n    </tr>\n    <tr>\n      <th>Queen's Park ,  Ontario Provincial Government</th>\n      <td>38</td>\n      <td>38</td>\n      <td>38</td>\n      <td>38</td>\n      <td>38</td>\n      <td>38</td>\n    </tr>\n    <tr>\n      <th>Regent Park ,  Harbourfront</th>\n      <td>48</td>\n      <td>48</td>\n      <td>48</td>\n      <td>48</td>\n      <td>48</td>\n      <td>48</td>\n    </tr>\n    <tr>\n      <th>Richmond ,  Adelaide ,  King</th>\n      <td>94</td>\n      <td>94</td>\n      <td>94</td>\n      <td>94</td>\n      <td>94</td>\n      <td>94</td>\n    </tr>\n    <tr>\n      <th>Rosedale</th>\n      <td>4</td>\n      <td>4</td>\n      <td>4</td>\n      <td>4</td>\n      <td>4</td>\n      <td>4</td>\n    </tr>\n    <tr>\n      <th>St. James Town</th>\n      <td>77</td>\n      <td>77</td>\n      <td>77</td>\n      <td>77</td>\n      <td>77</td>\n      <td>77</td>\n    </tr>\n    <tr>\n      <th>St. James Town ,  Cabbagetown</th>\n      <td>46</td>\n      <td>46</td>\n      <td>46</td>\n      <td>46</td>\n      <td>46</td>\n      <td>46</td>\n    </tr>\n    <tr>\n      <th>Stn A PO Boxes</th>\n      <td>95</td>\n      <td>95</td>\n      <td>95</td>\n      <td>95</td>\n      <td>95</td>\n      <td>95</td>\n    </tr>\n    <tr>\n      <th>Toronto Dominion Centre ,  Design Exchange</th>\n      <td>100</td>\n      <td>100</td>\n      <td>100</td>\n      <td>100</td>\n      <td>100</td>\n      <td>100</td>\n    </tr>\n    <tr>\n      <th>University of Toronto ,  Harbord</th>\n      <td>36</td>\n      <td>36</td>\n      <td>36</td>\n      <td>36</td>\n      <td>36</td>\n      <td>36</td>\n    </tr>\n  </tbody>\n</table>\n</div>",
                        "text/plain": "                                                    Neighbourhood Latitude  \\\nNeighbourhood                                                                \nBerczy Park                                                             57   \nCN Tower ,  King and Spadina ,  Railway Lands ,...                      17   \nCentral Bay Street                                                      63   \nChristie                                                                17   \nChurch and Wellesley                                                    78   \nCommerce Court ,  Victoria Hotel                                       100   \nFirst Canadian Place ,  Underground city                               100   \nGarden District, Ryerson                                               100   \nHarbourfront East ,  Union Station ,  Toronto I...                     100   \nKensington Market ,  Chinatown ,  Grange Park                           55   \nQueen's Park ,  Ontario Provincial Government                           38   \nRegent Park ,  Harbourfront                                             48   \nRichmond ,  Adelaide ,  King                                            94   \nRosedale                                                                 4   \nSt. James Town                                                          77   \nSt. James Town ,  Cabbagetown                                           46   \nStn A PO Boxes                                                          95   \nToronto Dominion Centre ,  Design Exchange                             100   \nUniversity of Toronto ,  Harbord                                        36   \n\n                                                    Neighbourhood Longitude  \\\nNeighbourhood                                                                 \nBerczy Park                                                              57   \nCN Tower ,  King and Spadina ,  Railway Lands ,...                       17   \nCentral Bay Street                                                       63   \nChristie                                                                 17   \nChurch and Wellesley                                                     78   \nCommerce Court ,  Victoria Hotel                                        100   \nFirst Canadian Place ,  Underground city                                100   \nGarden District, Ryerson                                                100   \nHarbourfront East ,  Union Station ,  Toronto I...                      100   \nKensington Market ,  Chinatown ,  Grange Park                            55   \nQueen's Park ,  Ontario Provincial Government                            38   \nRegent Park ,  Harbourfront                                              48   \nRichmond ,  Adelaide ,  King                                             94   \nRosedale                                                                  4   \nSt. James Town                                                           77   \nSt. James Town ,  Cabbagetown                                            46   \nStn A PO Boxes                                                           95   \nToronto Dominion Centre ,  Design Exchange                              100   \nUniversity of Toronto ,  Harbord                                         36   \n\n                                                    Venue  Venue Latitude  \\\nNeighbourhood                                                               \nBerczy Park                                            57              57   \nCN Tower ,  King and Spadina ,  Railway Lands ,...     17              17   \nCentral Bay Street                                     63              63   \nChristie                                               17              17   \nChurch and Wellesley                                   78              78   \nCommerce Court ,  Victoria Hotel                      100             100   \nFirst Canadian Place ,  Underground city              100             100   \nGarden District, Ryerson                              100             100   \nHarbourfront East ,  Union Station ,  Toronto I...    100             100   \nKensington Market ,  Chinatown ,  Grange Park          55              55   \nQueen's Park ,  Ontario Provincial Government          38              38   \nRegent Park ,  Harbourfront                            48              48   \nRichmond ,  Adelaide ,  King                           94              94   \nRosedale                                                4               4   \nSt. James Town                                         77              77   \nSt. James Town ,  Cabbagetown                          46              46   \nStn A PO Boxes                                         95              95   \nToronto Dominion Centre ,  Design Exchange            100             100   \nUniversity of Toronto ,  Harbord                       36              36   \n\n                                                    Venue Longitude  \\\nNeighbourhood                                                         \nBerczy Park                                                      57   \nCN Tower ,  King and Spadina ,  Railway Lands ,...               17   \nCentral Bay Street                                               63   \nChristie                                                         17   \nChurch and Wellesley                                             78   \nCommerce Court ,  Victoria Hotel                                100   \nFirst Canadian Place ,  Underground city                        100   \nGarden District, Ryerson                                        100   \nHarbourfront East ,  Union Station ,  Toronto I...              100   \nKensington Market ,  Chinatown ,  Grange Park                    55   \nQueen's Park ,  Ontario Provincial Government                    38   \nRegent Park ,  Harbourfront                                      48   \nRichmond ,  Adelaide ,  King                                     94   \nRosedale                                                          4   \nSt. James Town                                                   77   \nSt. James Town ,  Cabbagetown                                    46   \nStn A PO Boxes                                                   95   \nToronto Dominion Centre ,  Design Exchange                      100   \nUniversity of Toronto ,  Harbord                                 36   \n\n                                                    Venue Category  \nNeighbourhood                                                       \nBerczy Park                                                     57  \nCN Tower ,  King and Spadina ,  Railway Lands ,...              17  \nCentral Bay Street                                              63  \nChristie                                                        17  \nChurch and Wellesley                                            78  \nCommerce Court ,  Victoria Hotel                               100  \nFirst Canadian Place ,  Underground city                       100  \nGarden District, Ryerson                                       100  \nHarbourfront East ,  Union Station ,  Toronto I...             100  \nKensington Market ,  Chinatown ,  Grange Park                   55  \nQueen's Park ,  Ontario Provincial Government                   38  \nRegent Park ,  Harbourfront                                     48  \nRichmond ,  Adelaide ,  King                                    94  \nRosedale                                                         4  \nSt. James Town                                                  77  \nSt. James Town ,  Cabbagetown                                   46  \nStn A PO Boxes                                                  95  \nToronto Dominion Centre ,  Design Exchange                     100  \nUniversity of Toronto ,  Harbord                                36  "
                    },
                    "execution_count": 30,
                    "metadata": {},
                    "output_type": "execute_result"
                }
            ],
            "source": "toronto_venues.groupby('Neighbourhood').count()"
        },
        {
            "cell_type": "code",
            "execution_count": null,
            "metadata": {},
            "outputs": [],
            "source": "print('There are {} uniques categories.'.format(len(toronto_venues['Venue Category'].unique())))"
        },
        {
            "cell_type": "markdown",
            "metadata": {},
            "source": "**Lets Analyze Each Neighborhood**"
        },
        {
            "cell_type": "code",
            "execution_count": null,
            "metadata": {},
            "outputs": [],
            "source": "# one hot encoding\ntoronto_onehot = pd.get_dummies(toronto_venues[['Venue Category']], prefix=\"\", prefix_sep=\"\")\n\n# add neighborhood column back to dataframe\ntoronto_onehot['Neighbourhood'] = toronto_venues['Neighbourhood'] \n\n# move neighborhood column to the first column\nfixed_columns = [toronto_onehot.columns[-1]] + list(toronto_onehot.columns[:-1])\ntoronto_onehot = toronto_onehot[fixed_columns]\n\ntoronto_onehot.head(2)"
        },
        {
            "cell_type": "markdown",
            "metadata": {},
            "source": "And let's examine the new dataframe size."
        },
        {
            "cell_type": "code",
            "execution_count": null,
            "metadata": {},
            "outputs": [],
            "source": "toronto_onehot.shape"
        },
        {
            "cell_type": "markdown",
            "metadata": {},
            "source": "Gouping rows by neighborhood and by taking the mean of the frequency of occurrence of each category:"
        },
        {
            "cell_type": "code",
            "execution_count": null,
            "metadata": {},
            "outputs": [],
            "source": "toronto_grouped = toronto_onehot.groupby('Neighbourhood').mean().reset_index()\ntoronto_grouped.head(2)"
        },
        {
            "cell_type": "code",
            "execution_count": null,
            "metadata": {},
            "outputs": [],
            "source": "toronto_grouped.shape #new shape"
        },
        {
            "cell_type": "markdown",
            "metadata": {},
            "source": "#### Let's print each neighborhood along with the top 5 most common venues\n"
        },
        {
            "cell_type": "code",
            "execution_count": null,
            "metadata": {},
            "outputs": [],
            "source": "num_top_venues = 5\n\nfor hood in toronto_grouped['Neighbourhood']:\n    print(\"----\"+hood+\"----\")\n    temp = toronto_grouped[toronto_grouped['Neighbourhood'] == hood].T.reset_index()\n    temp.columns = ['venue','freq']\n    temp = temp.iloc[1:]\n    temp['freq'] = temp['freq'].astype(float)\n    temp = temp.round({'freq': 2})\n    print(temp.sort_values('freq', ascending=False).reset_index(drop=True).head(num_top_venues))\n    print('\\n')"
        },
        {
            "cell_type": "markdown",
            "metadata": {},
            "source": "#### Let's put that into a *pandas* dataframe"
        },
        {
            "cell_type": "code",
            "execution_count": null,
            "metadata": {},
            "outputs": [],
            "source": "#Sorting venues in descending order.\ndef return_most_common_venues(row, num_top_venues):\n    row_categories = row.iloc[1:]\n    row_categories_sorted = row_categories.sort_values(ascending=False)\n    \n    return row_categories_sorted.index.values[0:num_top_venues]\n\n#A new dataframe to display the top 10 venues for each neighborhood.\nnum_top_venues = 10\n\nindicators = ['st', 'nd', 'rd']\n\n# create columns according to number of top venues\ncolumns = ['Neighbourhood']\nfor ind in np.arange(num_top_venues):\n    try:\n        columns.append('{}{} Most Common Venue'.format(ind+1, indicators[ind]))\n    except:\n        columns.append('{}th Most Common Venue'.format(ind+1))\n\n# create a new dataframe\nneighbourhoods_venues_sorted = pd.DataFrame(columns=columns)\nneighbourhoods_venues_sorted['Neighbourhood'] = toronto_grouped['Neighbourhood']\n\nfor ind in np.arange(toronto_grouped.shape[0]):\n    neighbourhoods_venues_sorted.iloc[ind, 1:] = return_most_common_venues(toronto_grouped.iloc[ind, :], num_top_venues)\n\nneighbourhoods_venues_sorted.head(2)"
        },
        {
            "cell_type": "markdown",
            "metadata": {},
            "source": "## Clustering Neighborhoods\n"
        },
        {
            "cell_type": "code",
            "execution_count": null,
            "metadata": {},
            "outputs": [],
            "source": "# set number of clusters\nkclusters = 4\n\ntoronto_grouped_clustering = toronto_grouped.drop('Neighbourhood', 1)\n\n# run k-means clustering\nkmeans = KMeans(n_clusters=kclusters, random_state=0).fit(toronto_grouped_clustering)\n\n# check cluster labels generated for each row in the dataframe\nkmeans.labels_[0:10] "
        },
        {
            "cell_type": "markdown",
            "metadata": {},
            "source": "For easy visualization, lets create a new dataframe that includes the cluster as well as the top 10 venues for each neighborhood."
        },
        {
            "cell_type": "code",
            "execution_count": null,
            "metadata": {},
            "outputs": [],
            "source": "# add clustering labels\nneighbourhoods_venues_sorted.insert(0, 'Labels', kmeans.labels_)\n\ntoronto_merged = toronto_data\n\n# merge toronto_grouped with toronto_data to add latitude/longitude for each neighborhood\ntoronto_merged = toronto_merged.join(neighbourhoods_venues_sorted.set_index('Neighbourhood'), on='Neighbourhood')\n\ntoronto_merged.head() # check the last columns!"
        },
        {
            "cell_type": "markdown",
            "metadata": {},
            "source": "Finally, let's visualize the resulting clusters"
        },
        {
            "cell_type": "code",
            "execution_count": null,
            "metadata": {},
            "outputs": [],
            "source": "# create map\nmap_clusters = folium.Map(location=[latitude, longitude], zoom_start=13)\n\n# set color scheme for the clusters\nx = np.arange(kclusters)\nys = [i + x + (i*x)**2 for i in range(kclusters)]\ncolors_array = cm.rainbow(np.linspace(0, 1, len(ys)))\nrainbow = [colors.rgb2hex(i) for i in colors_array]\n\n# add markers to the map\nmarkers_colors = []\nfor lat, lon, poi, cluster in zip(toronto_merged['Latitude'], toronto_merged['Longitude'], toronto_merged['Neighbourhood'], toronto_merged['Labels']):\n    label = folium.Popup(str(poi) + ' Cluster ' + str(cluster), parse_html=True)\n    folium.CircleMarker(\n        [lat, lon],\n        radius=5,\n        popup=label,\n        color=rainbow[cluster-1],\n        fill=True,\n        fill_color=rainbow[cluster-1],\n        fill_opacity=0.7).add_to(map_clusters)\n       \nmap_clusters"
        },
        {
            "cell_type": "markdown",
            "metadata": {},
            "source": "## Examine Clusters"
        },
        {
            "cell_type": "markdown",
            "metadata": {},
            "source": "#### Cluster 1"
        },
        {
            "cell_type": "code",
            "execution_count": null,
            "metadata": {},
            "outputs": [],
            "source": "toronto_merged.loc[toronto_merged['Labels'] == 0, toronto_merged.columns[[1] + list(range(5, toronto_merged.shape[1]))]]"
        },
        {
            "cell_type": "markdown",
            "metadata": {},
            "source": "#### Cluster 2"
        },
        {
            "cell_type": "code",
            "execution_count": null,
            "metadata": {},
            "outputs": [],
            "source": "toronto_merged.loc[toronto_merged['Labels'] == 1, toronto_merged.columns[[1] + list(range(5, toronto_merged.shape[1]))]]"
        },
        {
            "cell_type": "markdown",
            "metadata": {},
            "source": "#### Cluster 3"
        },
        {
            "cell_type": "code",
            "execution_count": null,
            "metadata": {},
            "outputs": [],
            "source": "toronto_merged.loc[toronto_merged['Labels'] == 2, toronto_merged.columns[[1] + list(range(5, toronto_merged.shape[1]))]]"
        },
        {
            "cell_type": "markdown",
            "metadata": {},
            "source": "#### Cluster 4"
        },
        {
            "cell_type": "code",
            "execution_count": null,
            "metadata": {},
            "outputs": [],
            "source": "toronto_merged.loc[toronto_merged['Labels'] == 3, toronto_merged.columns[[1] + list(range(5, toronto_merged.shape[1]))]]"
        },
        {
            "cell_type": "markdown",
            "metadata": {},
            "source": "## Conclusion:"
        },
        {
            "cell_type": "markdown",
            "metadata": {},
            "source": "As seen from the above dataframes corresponding to each cluster label, the following conclusions can be made:  \n  \nCluster 1: the most common venue type is Coffee Shop followed by Pub and Park.  \nCluster 2: the most common venue type is Park followed Trail and Playground.  \nCluster 3: the most common venue type is Grocery Store, followed by\tCaf\u00e9 and Park.  \nCluster 4: the most common venue type is all about Airport Terminal.  \nThe most popular venue type in Downtown Toronto is Coffee Shop, containing 16 venues total.  "
        },
        {
            "cell_type": "code",
            "execution_count": null,
            "metadata": {},
            "outputs": [],
            "source": ""
        },
        {
            "cell_type": "code",
            "execution_count": null,
            "metadata": {},
            "outputs": [],
            "source": ""
        },
        {
            "cell_type": "code",
            "execution_count": null,
            "metadata": {},
            "outputs": [],
            "source": ""
        },
        {
            "cell_type": "code",
            "execution_count": null,
            "metadata": {},
            "outputs": [],
            "source": ""
        }
    ],
    "metadata": {
        "kernelspec": {
            "display_name": "Python 3.6",
            "language": "python",
            "name": "python3"
        },
        "language_info": {
            "codemirror_mode": {
                "name": "ipython",
                "version": 3
            },
            "file_extension": ".py",
            "mimetype": "text/x-python",
            "name": "python",
            "nbconvert_exporter": "python",
            "pygments_lexer": "ipython3",
            "version": "3.6.9"
        }
    },
    "nbformat": 4,
    "nbformat_minor": 1
}