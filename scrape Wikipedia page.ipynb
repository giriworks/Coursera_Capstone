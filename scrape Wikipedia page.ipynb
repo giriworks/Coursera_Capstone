{
    "cells": [
        {
            "cell_type": "code",
            "execution_count": 27,
            "metadata": {},
            "outputs": [
                {
                    "name": "stdout",
                    "output_type": "stream",
                    "text": "Requirement already satisfied: BeautifulSoup4 in /opt/conda/envs/Python36/lib/python3.6/site-packages (4.7.1)\nRequirement already satisfied: soupsieve>=1.2 in /opt/conda/envs/Python36/lib/python3.6/site-packages (from BeautifulSoup4) (1.7.1)\nRequirement already satisfied: requests in /opt/conda/envs/Python36/lib/python3.6/site-packages (2.21.0)\nRequirement already satisfied: certifi>=2017.4.17 in /opt/conda/envs/Python36/lib/python3.6/site-packages (from requests) (2020.4.5.1)\nRequirement already satisfied: chardet<3.1.0,>=3.0.2 in /opt/conda/envs/Python36/lib/python3.6/site-packages (from requests) (3.0.4)\nRequirement already satisfied: urllib3<1.25,>=1.21.1 in /opt/conda/envs/Python36/lib/python3.6/site-packages (from requests) (1.24.1)\nRequirement already satisfied: idna<2.9,>=2.5 in /opt/conda/envs/Python36/lib/python3.6/site-packages (from requests) (2.8)\n"
                }
            ],
            "source": "!pip install BeautifulSoup4\n!pip install requests"
        },
        {
            "cell_type": "code",
            "execution_count": 102,
            "metadata": {},
            "outputs": [],
            "source": "# importing necessary libraries\nimport pandas as pd\nimport numpy as np\nfrom bs4 import BeautifulSoup\nimport requests"
        },
        {
            "cell_type": "code",
            "execution_count": 103,
            "metadata": {},
            "outputs": [],
            "source": "# getting data from webpage\nURL='https://en.wikipedia.org/wiki/List_of_postal_codes_of_Canada:_M'\nURL_page= requests.get(URL).text\n\n# using beautiful soup to read lxml codes.\nsoup = BeautifulSoup(URL_page,'xml')"
        },
        {
            "cell_type": "code",
            "execution_count": 104,
            "metadata": {},
            "outputs": [],
            "source": "# extracting the raw table inside that webpage\ndef table_cell(i):\n    cells = i.find_all('td')\n    row = []\n    \n    for cell in cells:\n        if cell.a:            \n            if (cell.a.text):\n                row.append(cell.a.text)\n                continue\n        row.append(cell.string.strip())\n        \n    return row\n\ndef table_row():    \n    data = []  \n    \n    for tr in table.find_all('tr'):\n        row = table_cell(tr)\n        if len(row) != 3:\n            continue\n        data.append(row)        \n    \n    return data"
        },
        {
            "cell_type": "code",
            "execution_count": 105,
            "metadata": {},
            "outputs": [
                {
                    "data": {
                        "text/html": "<div>\n<style scoped>\n    .dataframe tbody tr th:only-of-type {\n        vertical-align: middle;\n    }\n\n    .dataframe tbody tr th {\n        vertical-align: top;\n    }\n\n    .dataframe thead th {\n        text-align: right;\n    }\n</style>\n<table border=\"1\" class=\"dataframe\">\n  <thead>\n    <tr style=\"text-align: right;\">\n      <th></th>\n      <th>Postcode</th>\n      <th>Borough</th>\n      <th>Neighbourhood</th>\n    </tr>\n  </thead>\n  <tbody>\n    <tr>\n      <th>0</th>\n      <td>M1A</td>\n      <td>Not assigned</td>\n      <td></td>\n    </tr>\n    <tr>\n      <th>1</th>\n      <td>M2A</td>\n      <td>Not assigned</td>\n      <td></td>\n    </tr>\n    <tr>\n      <th>2</th>\n      <td>M3A</td>\n      <td>North York</td>\n      <td>Parkwoods</td>\n    </tr>\n    <tr>\n      <th>3</th>\n      <td>M4A</td>\n      <td>North York</td>\n      <td>Victoria Village</td>\n    </tr>\n    <tr>\n      <th>4</th>\n      <td>M5A</td>\n      <td>Downtown Toronto</td>\n      <td>Regent Park / Harbourfront</td>\n    </tr>\n  </tbody>\n</table>\n</div>",
                        "text/plain": "  Postcode           Borough               Neighbourhood\n0      M1A      Not assigned                            \n1      M2A      Not assigned                            \n2      M3A        North York                   Parkwoods\n3      M4A        North York            Victoria Village\n4      M5A  Downtown Toronto  Regent Park / Harbourfront"
                    },
                    "execution_count": 105,
                    "metadata": {},
                    "output_type": "execute_result"
                }
            ],
            "source": "#Creating DataFrame that consist of three columns: PostalCode, Borough, and Neighborhood\ndata = table_row()\ncolumns = ['Postcode', 'Borough', 'Neighbourhood']\nwiki = pd.DataFrame(data, columns=columns)\nwiki.head()"
        },
        {
            "cell_type": "code",
            "execution_count": 106,
            "metadata": {},
            "outputs": [
                {
                    "data": {
                        "text/plain": "(180, 3)"
                    },
                    "execution_count": 106,
                    "metadata": {},
                    "output_type": "execute_result"
                }
            ],
            "source": "wiki.shape"
        },
        {
            "cell_type": "markdown",
            "metadata": {},
            "source": "## Cleaning the data:"
        },
        {
            "cell_type": "code",
            "execution_count": 107,
            "metadata": {},
            "outputs": [],
            "source": "#Ignore cells with a borough that is Not assigned\nwiki = wiki[wiki['Borough'] != 'Not assigned']\n\n#Lets combine the neighborhoods with same Postcode in rows.\nwiki[\"Neighbourhood\"] = wiki.groupby(\"Postcode\")[\"Neighbourhood\"].transform(lambda neigh: ', '.join(neigh))\n\n#We have to separate the Neighbourhood with\"Comma\" instead of \"/\"\nwiki[\"Neighbourhood\"]= wiki[\"Neighbourhood\"].str.replace(\"/\", \", \")\n\n#To remove Duplicate Postcodes, we could assign the column as index and retain data as well.\nwiki.set_index(\"Postcode\", inplace=True)\n"
        },
        {
            "cell_type": "code",
            "execution_count": 108,
            "metadata": {},
            "outputs": [
                {
                    "data": {
                        "text/html": "<div>\n<style scoped>\n    .dataframe tbody tr th:only-of-type {\n        vertical-align: middle;\n    }\n\n    .dataframe tbody tr th {\n        vertical-align: top;\n    }\n\n    .dataframe thead th {\n        text-align: right;\n    }\n</style>\n<table border=\"1\" class=\"dataframe\">\n  <thead>\n    <tr style=\"text-align: right;\">\n      <th></th>\n      <th>Borough</th>\n      <th>Neighbourhood</th>\n    </tr>\n    <tr>\n      <th>Postcode</th>\n      <th></th>\n      <th></th>\n    </tr>\n  </thead>\n  <tbody>\n    <tr>\n      <th>M3A</th>\n      <td>North York</td>\n      <td>Parkwoods</td>\n    </tr>\n    <tr>\n      <th>M4A</th>\n      <td>North York</td>\n      <td>Victoria Village</td>\n    </tr>\n    <tr>\n      <th>M5A</th>\n      <td>Downtown Toronto</td>\n      <td>Regent Park ,  Harbourfront</td>\n    </tr>\n    <tr>\n      <th>M6A</th>\n      <td>North York</td>\n      <td>Lawrence Manor ,  Lawrence Heights</td>\n    </tr>\n    <tr>\n      <th>M7A</th>\n      <td>Downtown Toronto</td>\n      <td>Queen's Park ,  Ontario Provincial Government</td>\n    </tr>\n    <tr>\n      <th>M9A</th>\n      <td>Etobicoke</td>\n      <td>Islington Avenue</td>\n    </tr>\n    <tr>\n      <th>M1B</th>\n      <td>Scarborough</td>\n      <td>Malvern ,  Rouge</td>\n    </tr>\n    <tr>\n      <th>M3B</th>\n      <td>North York</td>\n      <td>Don Mills</td>\n    </tr>\n    <tr>\n      <th>M4B</th>\n      <td>East York</td>\n      <td>Parkview Hill ,  Woodbine Gardens</td>\n    </tr>\n    <tr>\n      <th>M5B</th>\n      <td>Downtown Toronto</td>\n      <td>Garden District, Ryerson</td>\n    </tr>\n    <tr>\n      <th>M6B</th>\n      <td>North York</td>\n      <td>Glencairn</td>\n    </tr>\n    <tr>\n      <th>M9B</th>\n      <td>Etobicoke</td>\n      <td>West Deane Park ,  Princess Gardens ,  Martin ...</td>\n    </tr>\n    <tr>\n      <th>M1C</th>\n      <td>Scarborough</td>\n      <td>Rouge Hill ,  Port Union ,  Highland Creek</td>\n    </tr>\n    <tr>\n      <th>M3C</th>\n      <td>North York</td>\n      <td>Don Mills</td>\n    </tr>\n    <tr>\n      <th>M4C</th>\n      <td>East York</td>\n      <td>Woodbine Heights</td>\n    </tr>\n    <tr>\n      <th>M5C</th>\n      <td>Downtown Toronto</td>\n      <td>St. James Town</td>\n    </tr>\n    <tr>\n      <th>M6C</th>\n      <td>York</td>\n      <td>Humewood-Cedarvale</td>\n    </tr>\n    <tr>\n      <th>M9C</th>\n      <td>Etobicoke</td>\n      <td>Eringate ,  Bloordale Gardens ,  Old Burnhamth...</td>\n    </tr>\n    <tr>\n      <th>M1E</th>\n      <td>Scarborough</td>\n      <td>Guildwood ,  Morningside ,  West Hill</td>\n    </tr>\n    <tr>\n      <th>M4E</th>\n      <td>East Toronto</td>\n      <td>The Beaches</td>\n    </tr>\n  </tbody>\n</table>\n</div>",
                        "text/plain": "                   Borough                                      Neighbourhood\nPostcode                                                                     \nM3A             North York                                          Parkwoods\nM4A             North York                                   Victoria Village\nM5A       Downtown Toronto                        Regent Park ,  Harbourfront\nM6A             North York                 Lawrence Manor ,  Lawrence Heights\nM7A       Downtown Toronto      Queen's Park ,  Ontario Provincial Government\nM9A              Etobicoke                                   Islington Avenue\nM1B            Scarborough                                   Malvern ,  Rouge\nM3B             North York                                          Don Mills\nM4B              East York                  Parkview Hill ,  Woodbine Gardens\nM5B       Downtown Toronto                           Garden District, Ryerson\nM6B             North York                                          Glencairn\nM9B              Etobicoke  West Deane Park ,  Princess Gardens ,  Martin ...\nM1C            Scarborough         Rouge Hill ,  Port Union ,  Highland Creek\nM3C             North York                                          Don Mills\nM4C              East York                                   Woodbine Heights\nM5C       Downtown Toronto                                     St. James Town\nM6C                   York                                 Humewood-Cedarvale\nM9C              Etobicoke  Eringate ,  Bloordale Gardens ,  Old Burnhamth...\nM1E            Scarborough              Guildwood ,  Morningside ,  West Hill\nM4E           East Toronto                                        The Beaches"
                    },
                    "execution_count": 108,
                    "metadata": {},
                    "output_type": "execute_result"
                }
            ],
            "source": "#Check the Data\nwiki.head(20)"
        },
        {
            "cell_type": "code",
            "execution_count": 109,
            "metadata": {},
            "outputs": [
                {
                    "name": "stdout",
                    "output_type": "stream",
                    "text": "(103, 2)\n"
                }
            ],
            "source": "#look up the Shape of wikidata\nprint (wiki.shape)"
        },
        {
            "cell_type": "code",
            "execution_count": null,
            "metadata": {},
            "outputs": [],
            "source": ""
        }
    ],
    "metadata": {
        "kernelspec": {
            "display_name": "Python 3.6",
            "language": "python",
            "name": "python3"
        },
        "language_info": {
            "codemirror_mode": {
                "name": "ipython",
                "version": 3
            },
            "file_extension": ".py",
            "mimetype": "text/x-python",
            "name": "python",
            "nbconvert_exporter": "python",
            "pygments_lexer": "ipython3",
            "version": "3.6.9"
        }
    },
    "nbformat": 4,
    "nbformat_minor": 1
}